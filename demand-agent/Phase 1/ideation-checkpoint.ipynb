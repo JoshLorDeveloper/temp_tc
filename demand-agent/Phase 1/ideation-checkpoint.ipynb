{
 "cells": [
  {
   "cell_type": "code",
   "execution_count": 1,
   "metadata": {},
   "outputs": [],
   "source": [
    "import numpy as np\n",
    "import pandas as pd"
   ]
  },
  {
   "cell_type": "code",
   "execution_count": 2,
   "metadata": {},
   "outputs": [],
   "source": [
    "class Time():\n",
    "    def __init__(self, year : int, month : int, day : int, hour : int, minute : int, second : int):\n",
    "        self.year = year\n",
    "        self.month = month\n",
    "        self.day = day\n",
    "        self.hour = hour\n",
    "        self.minute = minute\n",
    "        self.second = second\n",
    "        \n",
    "    def __eq__(self, other) -> bool:\n",
    "        return self.year == other.year and self.month == other.month and \\\n",
    "                self.day == other.day and self.hour == other.hour and \\\n",
    "                self.minute == other.minute and self.second == other.second\n",
    "\n",
    "    def __ge__(self, other) -> bool:\n",
    "        if self.year != other.year:\n",
    "            return self.year > other.year\n",
    "        if self.month != other.month:\n",
    "            return self.month > other.month\n",
    "        if self.hour != other.hour:\n",
    "            return self.hour > other.hour\n",
    "        if self.minute != other.minute:\n",
    "            return self.minute > other.minute\n",
    "        if self.second != other.second:\n",
    "            return self.second > other.second\n",
    "        return True\n",
    "\n",
    "    def __le__(self, other) -> bool:\n",
    "        if self.year != other.year:\n",
    "            return self.year < other.year\n",
    "        if self.month != other.month:\n",
    "            return self.month < other.month\n",
    "        if self.hour != other.hour:\n",
    "            return self.hour < other.hour\n",
    "        if self.minute != other.minute:\n",
    "            return self.minute < other.minute\n",
    "        if self.second != other.second:\n",
    "            return self.second < other.second\n",
    "        return True\n",
    "\n",
    "class TimeInterval():\n",
    "    def __init__(self, start_time : Time, end_time : Time):\n",
    "        self.start_time = start_time\n",
    "        self.end_time = end_time\n",
    "    \n",
    "    def split(self, time: Time) -> tuple:\n",
    "        first_time_interval = TimeInterval(self.start_time, time)\n",
    "        second_time_interval = TimeInterval(time, selfend_time)\n",
    "        return (first_time_interval, second_time_interval)\n",
    "\n",
    "    def contains(self, time: Time) -> bool:\n",
    "        return (self.start_time <= time and self.end_time >= time)\n",
    "    \n",
    "    # If any of the other_time_interval is contained within self\n",
    "    def soft_contains_interval(self, other_time_interval) -> bool:\n",
    "        return (self.contains(other_time_interval.start_time) or self.contains(other_time_interval.end_time))\n",
    "    \n",
    "    # If all of the other_time_interval is contained within self\n",
    "    def hard_contains_interval(self, other_time_interval) -> bool:\n",
    "        return (self.start_time <= other_time_interval.start_time and self.end_time >= other_time_interval.end_time)\n"
   ]
  },
  {
   "cell_type": "code",
   "execution_count": 3,
   "metadata": {},
   "outputs": [],
   "source": [
    "class EnvironmentVariable():\n",
    "    def __init__(self, time_interval : TimeInterval):\n",
    "        self.time_interval = time_interval\n",
    "        \n",
    "class EnergyPrice(EnvironmentVariable):\n",
    "    def __init__(self, time_interval : TimeInterval, price: float):\n",
    "        super().__init__(self, time_interval)\n",
    "        self.time_interval = time_interval\n",
    "        # energy price in USD\n",
    "        self.energy_price = energy_price\n",
    "\n",
    "class LocalTemperature(EnvironmentVariable):\n",
    "    def __init__(self, time_interval : TimeInterval, price: float):\n",
    "        super().__init__(self, time_interval)\n",
    "        self.time_interval = time_interval\n",
    "        # local temperature in celcius\n",
    "        self.temperature = temperature\n",
    "        "
   ]
  },
  {
   "cell_type": "code",
   "execution_count": 4,
   "metadata": {},
   "outputs": [],
   "source": [
    "class Environment():\n",
    "    def __init__(self, environment_variables: list, complete_time_interval : TimeInterval):\n",
    "        for environment_variable in environment_variables:\n",
    "            if not complete_time_interval.soft_contains_interval(environment_variable.time_interval):\n",
    "                raise ValueError('Time interval outside valid range')\n",
    "        self.complete_time_interval = complete_time_interval\n",
    "        self.environment_variables = environment_variables"
   ]
  },
  {
   "cell_type": "code",
   "execution_count": 5,
   "metadata": {},
   "outputs": [],
   "source": [
    "class InputData():\n",
    "    def __init__(self, environment: Environment, demand: float):\n",
    "        self.environment = environment\n",
    "        self.demand = demand\n",
    "\n",
    "class User():\n",
    "    def __init__(self, identifier):\n",
    "        self.identifier = identifier\n",
    "    \n",
    "    def recieve(self, input_data):\n",
    "        pass\n",
    "        "
   ]
  },
  {
   "cell_type": "code",
   "execution_count": 6,
   "metadata": {},
   "outputs": [
    {
     "data": {
      "text/plain": [
       "array([[ 0,  1,  2,  3,  4],\n",
       "       [ 5,  6,  7,  8,  9],\n",
       "       [10, 11, 12, 13, 14]])"
      ]
     },
     "execution_count": 6,
     "metadata": {},
     "output_type": "execute_result"
    }
   ],
   "source": [
    "a = np.arange(15).reshape(3, 5)\n",
    "a"
   ]
  },
  {
   "cell_type": "code",
   "execution_count": null,
   "metadata": {},
   "outputs": [],
   "source": []
  },
  {
   "cell_type": "code",
   "execution_count": 7,
   "metadata": {},
   "outputs": [],
   "source": [
    "def train(input_data):\n",
    "    pass"
   ]
  },
  {
   "cell_type": "code",
   "execution_count": 8,
   "metadata": {},
   "outputs": [],
   "source": [
    "\n",
    "def predict(input_data, output_data):\n",
    "    \"\"\"\n",
    "    input_data\n",
    "    [\n",
    "        TimeInterval : \n",
    "    ]\n",
    "    \n",
    "    \n",
    "    \"\"\"\n",
    "    pass"
   ]
  },
  {
   "cell_type": "code",
   "execution_count": 9,
   "metadata": {},
   "outputs": [
    {
     "ename": "NameError",
     "evalue": "name 'y' is not defined",
     "output_type": "error",
     "traceback": [
      "\u001b[0;31m---------------------------------------------------------------------------\u001b[0m",
      "\u001b[0;31mNameError\u001b[0m                                 Traceback (most recent call last)",
      "\u001b[0;32m/var/folders/v6/674tt60s0_1gmkkgv6n5dc2w0000gn/T/ipykernel_35519/3175126743.py\u001b[0m in \u001b[0;36m<module>\u001b[0;34m\u001b[0m\n\u001b[1;32m      3\u001b[0m \u001b[0mY\u001b[0m \u001b[0;34m=\u001b[0m \u001b[0;34m[\u001b[0m\u001b[0;36m0.5\u001b[0m\u001b[0;34m,\u001b[0m \u001b[0;36m2.5\u001b[0m\u001b[0;34m]\u001b[0m\u001b[0;34m\u001b[0m\u001b[0;34m\u001b[0m\u001b[0m\n\u001b[1;32m      4\u001b[0m \u001b[0mregr\u001b[0m \u001b[0;34m=\u001b[0m \u001b[0msvm\u001b[0m\u001b[0;34m.\u001b[0m\u001b[0mSVR\u001b[0m\u001b[0;34m(\u001b[0m\u001b[0;34m)\u001b[0m\u001b[0;34m\u001b[0m\u001b[0;34m\u001b[0m\u001b[0m\n\u001b[0;32m----> 5\u001b[0;31m \u001b[0mregr\u001b[0m\u001b[0;34m.\u001b[0m\u001b[0mfit\u001b[0m\u001b[0;34m(\u001b[0m\u001b[0mX\u001b[0m\u001b[0;34m,\u001b[0m \u001b[0my\u001b[0m\u001b[0;34m)\u001b[0m\u001b[0;34m\u001b[0m\u001b[0;34m\u001b[0m\u001b[0m\n\u001b[0m\u001b[1;32m      6\u001b[0m \u001b[0mregr\u001b[0m\u001b[0;34m.\u001b[0m\u001b[0mpredict\u001b[0m\u001b[0;34m(\u001b[0m\u001b[0;34m[\u001b[0m\u001b[0;34m[\u001b[0m\u001b[0;36m1\u001b[0m\u001b[0;34m,\u001b[0m \u001b[0;36m1\u001b[0m\u001b[0;34m,\u001b[0m \u001b[0;36m3\u001b[0m\u001b[0;34m,\u001b[0m \u001b[0;36m4\u001b[0m\u001b[0;34m]\u001b[0m\u001b[0;34m]\u001b[0m\u001b[0;34m)\u001b[0m\u001b[0;34m\u001b[0m\u001b[0;34m\u001b[0m\u001b[0m\n",
      "\u001b[0;31mNameError\u001b[0m: name 'y' is not defined"
     ]
    }
   ],
   "source": [
    "from sklearn import svm\n",
    "X = [[0, 1, 4, 5], [2, 3, 5, 9]]\n",
    "Y = [0.5, 2.5]\n",
    "regr = svm.SVR()\n",
    "regr.fit(X, Y)\n",
    "regr.predict([[1, 1, 3, 4]])"
   ]
  },
  {
   "cell_type": "code",
   "execution_count": null,
   "metadata": {},
   "outputs": [],
   "source": []
  },
  {
   "cell_type": "code",
   "execution_count": null,
   "metadata": {},
   "outputs": [],
   "source": []
  }
 ],
 "metadata": {
  "interpreter": {
   "hash": "f35cfa55b0f9f50f00c00930df8a0ed0d4838169d197a237fcccdef043c1e09a"
  },
  "kernelspec": {
   "display_name": "env",
   "language": "python",
   "name": "env"
  },
  "language_info": {
   "codemirror_mode": {
    "name": "ipython",
    "version": 3
   },
   "file_extension": ".py",
   "mimetype": "text/x-python",
   "name": "python",
   "nbconvert_exporter": "python",
   "pygments_lexer": "ipython3",
   "version": "3.8.5"
  }
 },
 "nbformat": 4,
 "nbformat_minor": 4
}
